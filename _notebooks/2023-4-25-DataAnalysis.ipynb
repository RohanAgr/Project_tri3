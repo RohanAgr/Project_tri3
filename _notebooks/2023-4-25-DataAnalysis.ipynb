{
 "cells": [
  {
   "attachments": {},
   "cell_type": "markdown",
   "metadata": {},
   "source": [
    "#  Petite Pandas: Data Analysis using Pandas and NumPy\n",
    "> Using Programs with Data is focused on SQL and database actions.  Part B focuses on learning SQL commands, connections, and curses using an Imperative programming style,\n",
<<<<<<< HEAD
    "- toc: true\n",
    "- categories: []\n",
    "- type: ap\n",
    "- week: 26\n",
=======
    "- toc: true"
>>>>>>> refs/remotes/origin/master
   ]
  }
 ],
 "metadata": {
  "language_info": {
   "name": "python"
  },
  "orig_nbformat": 4
 },
 "nbformat": 4,
 "nbformat_minor": 2
}
