{
 "cells": [
  {
   "attachments": {},
   "cell_type": "markdown",
   "metadata": {},
   "source": [
    "#  Petite Pandas: Data Analysis using Pandas and NumPy\n",
    "> A series of lessons based on the utilization of Pandas and NumPy to read and create interesting things with files and data.\n",
    "By Jonathan, Krishiv, Parav, Rohan, Soham, Tay\n"
   ]
  },
  {
   "attachments": {},
   "cell_type": "markdown",
   "metadata": {},
   "source": [
    "# Overview\n",
    "We will be teaching the class about Pandas and NumPy, and how to use them effectively."
   ]
  },
  {
   "attachments": {},
   "cell_type": "markdown",
   "metadata": {},
   "source": [
    "## Subcategories:\n",
    "\n",
    "- How to read a file using Pandas\n",
    "- Implentation of statistics and data analysis using Pandas\n",
    "- Using pandas to change aspects of files\n",
    "- Using numpy to modify, scale, and edit images\n",
    "- Mathematics and complex calculations using numpy"
   ]
  },
  {
   "attachments": {},
   "cell_type": "markdown",
   "metadata": {},
   "source": [
    "# Lesson Plan\n",
    "\n",
    "- We will implementy \"popcorn hacks\" during the lesson. This may consist of editing code or filling in the blanks. \n",
    "- We may ask students to note down what they notice and wonder after running each code cell. They will analyze code cells and jot down their findings in a markdown cell."
   ]
  },
  {
   "attachments": {},
   "cell_type": "markdown",
   "metadata": {},
   "source": [
    "# Hacks\n",
    "\n",
    "- Find a certain scenario, topic, or trend which has quantitative data. Store the data in a file and read it in Pandas. Show some analysis of the data. \n",
    "- Solve a 3x3 matrix using numpy.\n",
    "- Pick an image of your choice and scale it using different colors. \n",
    "- 0.1 if you create a rainbow with your scaled images.\n"
   ]
  },
  {
   "attachments": {},
   "cell_type": "markdown",
   "metadata": {},
   "source": [
    "# Grading\n",
    "\n",
    "- 0.2 for all the popcorn hacks completed and notes jotted down\n",
    "- 0.7 for both hacks completed\n",
    "- 0.1 for completing the bonus."
   ]
  }
 ],
 "metadata": {
  "kernelspec": {
   "display_name": "base",
   "language": "python",
   "name": "python3"
  },
  "language_info": {
   "name": "python",
   "version": "3.9.12"
  },
  "orig_nbformat": 4
 },
 "nbformat": 4,
 "nbformat_minor": 2
}
